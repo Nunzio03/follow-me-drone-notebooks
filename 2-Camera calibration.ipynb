{
  "cells": [
    {
      "metadata": {},
      "cell_type": "markdown",
      "source": "# Camera calibration\nIn order to estimate markers' pose first we need to find the <b>camera matrix</b> and the <b>distortion coefficients</b>. Both are intrinsic camera parameters, so calibration has to be performed only once.\n\nsources:<br>\nhttps://it.mathworks.com/help/vision/ug/camera-calibration.html <br>\nhttps://docs.opencv.org/2.4/modules/calib3d/doc/camera_calibration_and_3d_reconstruction.html"
    },
    {
      "metadata": {},
      "cell_type": "markdown",
      "source": "## Setup"
    },
    {
      "metadata": {
        "trusted": true
      },
      "cell_type": "code",
      "source": "!pip3 install -r requirements.txt\n",
      "execution_count": 2,
      "outputs": [
        {
          "output_type": "stream",
          "text": "Requirement already satisfied: cycler==0.10.0 in /home/nbuser/anaconda3_501/lib/python3.6/site-packages (from -r requirements.txt (line 1)) (0.10.0)\nRequirement already satisfied: kiwisolver==1.2.0 in /home/nbuser/anaconda3_501/lib/python3.6/site-packages (from -r requirements.txt (line 2)) (1.2.0)\nRequirement already satisfied: matplotlib==3.2.1 in /home/nbuser/anaconda3_501/lib/python3.6/site-packages (from -r requirements.txt (line 3)) (3.2.1)\nRequirement already satisfied: numpy==1.18.4 in /home/nbuser/anaconda3_501/lib/python3.6/site-packages (from -r requirements.txt (line 4)) (1.18.4)\nRequirement already satisfied: opencv-contrib-python==4.2.0.34 in /home/nbuser/anaconda3_501/lib/python3.6/site-packages (from -r requirements.txt (line 5)) (4.2.0.34)\nRequirement already satisfied: pandas==1.0.3 in /home/nbuser/anaconda3_501/lib/python3.6/site-packages (from -r requirements.txt (line 6)) (1.0.3)\nRequirement already satisfied: Pillow==7.1.2 in /home/nbuser/anaconda3_501/lib/python3.6/site-packages (from -r requirements.txt (line 7)) (7.1.2)\nRequirement already satisfied: pyparsing==2.4.7 in /home/nbuser/anaconda3_501/lib/python3.6/site-packages (from -r requirements.txt (line 8)) (2.4.7)\nRequirement already satisfied: python-dateutil==2.8.1 in /home/nbuser/anaconda3_501/lib/python3.6/site-packages (from -r requirements.txt (line 9)) (2.8.1)\nRequirement already satisfied: pytz==2020.1 in /home/nbuser/anaconda3_501/lib/python3.6/site-packages (from -r requirements.txt (line 10)) (2020.1)\nRequirement already satisfied: six==1.14.0 in /home/nbuser/anaconda3_501/lib/python3.6/site-packages (from -r requirements.txt (line 11)) (1.14.0)\n\u001b[33mWARNING: You are using pip version 19.3.1; however, version 20.1.1 is available.\nYou should consider upgrading via the 'pip install --upgrade pip' command.\u001b[0m\n",
          "name": "stdout"
        }
      ]
    },
    {
      "metadata": {},
      "cell_type": "markdown",
      "source": "## ArUco Chessboard generation"
    },
    {
      "metadata": {
        "trusted": true
      },
      "cell_type": "code",
      "source": "import numpy as np\nimport cv2, PIL\nfrom cv2 import aruco\nfrom mpl_toolkits.mplot3d import Axes3D\nimport matplotlib.pyplot as plt\nimport matplotlib as mpl\nimport pandas as pd\nfrom IPython.display import display, Math\nprint(\"import completed\")",
      "execution_count": 3,
      "outputs": [
        {
          "output_type": "stream",
          "text": "import completed\n",
          "name": "stdout"
        }
      ]
    },
    {
      "metadata": {
        "trusted": true
      },
      "cell_type": "code",
      "source": "\nworkdir = \"./markers/\"\naruco_dict = aruco.Dictionary_get(aruco.DICT_6X6_250)\nboard = aruco.CharucoBoard_create(7, 5, 1, .8, aruco_dict)\nimboard = board.draw((2000, 2000))\ncv2.imwrite(workdir + \"chessboard.png\", imboard)\nfig = plt.figure()\nax = fig.add_subplot(1,1,1)\nplt.imshow(imboard, cmap = mpl.cm.gray, interpolation = \"nearest\")\nax.axis(\"off\")\nplt.show()",
      "execution_count": 4,
      "outputs": [
        {
          "output_type": "display_data",
          "data": {
            "image/png": "[encoded data removed]",
            "text/plain": "<Figure size 432x288 with 1 Axes>"
          },
          "metadata": {
            "needs_background": "light"
          }
        }
      ]
    },
    {
      "metadata": {
        "trusted": true
      },
      "cell_type": "markdown",
      "source": "## Calibration\nAfter printing the charuco board we need to take several pictures of the board with the camera that we want to calibrate"
    },
    {
      "metadata": {
        "trusted": true
      },
      "cell_type": "code",
      "source": "import numpy as np\nimport cv2, PIL, os\nfrom cv2 import aruco\nimport matplotlib.pyplot as plt\n\naruco_dict = aruco.Dictionary_get(aruco.DICT_6X6_250)\nboard = aruco.CharucoBoard_create(7, 5, 1, .8, aruco_dict)\ndatadir = \"./drone calibration photos/\"\n\nimages = np.array([datadir + f for f in os.listdir(datadir) if f.endswith(\".png\") ])\n\n\ndef read_chessboards(images):\n    \"\"\"\n    Charuco base pose estimation.\n    \"\"\"\n    print(\"POSE ESTIMATION STARTED...\")\n    allCorners = []\n    allIds = []\n    decimator = 0\n    # SUB PIXEL CORNER DETECTION CRITERION\n    criteria = (cv2.TERM_CRITERIA_EPS + cv2.TERM_CRITERIA_MAX_ITER, 100, 0.00001)\n\n    for im in images:\n        # print(\"=> Processing image {0}\".format(im))\n        print('.', end=\"\")\n        frame = cv2.imread(im)\n        gray = cv2.cvtColor(frame, cv2.COLOR_BGR2GRAY)\n        corners, ids, rejectedImgPoints = cv2.aruco.detectMarkers(gray, aruco_dict)\n\n        if len(corners)>0:\n            # SUB PIXEL DETECTION\n            for corner in corners:\n                cv2.cornerSubPix(gray, corner,\n                                 winSize = (3,3),\n                                 zeroZone = (-1,-1),\n                                 criteria = criteria)\n            res2 = cv2.aruco.interpolateCornersCharuco(corners,ids,gray,board)\n            if res2[1] is not None and res2[2] is not None and len(res2[1])>3 and decimator%1==0:\n                allCorners.append(res2[1])\n                allIds.append(res2[2])\n\n        decimator+=1\n\n    imsize = gray.shape\n    return allCorners,allIds,imsize\n\nallCorners,allIds,imsize=read_chessboards(images)\n\n\ndef calibrate_camera(allCorners,allIds,imsize):\n    \"\"\"\n    Calibrates the camera using the dected corners.\n    \"\"\"\n\n    cameraMatrixInit = np.array([[ 1000.,    0., imsize[0]/2.],\n                                 [    0., 1000., imsize[1]/2.],\n                                 [    0.,    0.,           1.]])\n\n    distCoeffsInit = np.zeros((5,1))\n    flags = (cv2.CALIB_USE_INTRINSIC_GUESS + cv2.CALIB_RATIONAL_MODEL + cv2.CALIB_FIX_ASPECT_RATIO)\n    #flags = (cv2.CALIB_RATIONAL_MODEL)\n    (ret, camera_matrix, distortion_coefficients0,\n     rotation_vectors, translation_vectors,\n     stdDeviationsIntrinsics, stdDeviationsExtrinsics,\n     perViewErrors) = cv2.aruco.calibrateCameraCharucoExtended(\n                      charucoCorners=allCorners,\n                      charucoIds=allIds,\n                      board=board,\n                      imageSize=imsize,\n                      cameraMatrix=cameraMatrixInit,\n                      distCoeffs=distCoeffsInit,\n                      flags=flags,\n                      criteria=(cv2.TERM_CRITERIA_EPS & cv2.TERM_CRITERIA_COUNT, 10000, 1e-9))\n\n    return ret, camera_matrix, distortion_coefficients0, rotation_vectors, translation_vectors\n\n\nret, mtx, dist, rvecs, tvecs = calibrate_camera(allCorners,allIds,imsize)\nprint(\"\\n CALIBRATION COMPLETED\")\n",
      "execution_count": 5,
      "outputs": [
        {
          "output_type": "stream",
          "text": "POSE ESTIMATION STARTED...\n.....................\n CALIBRATION COMPLETED\n",
          "name": "stdout"
        }
      ]
    },
    {
      "metadata": {
        "trusted": true
      },
      "cell_type": "markdown",
      "source": "## Results\nNow we can store these results, and use them for ArUco identification and pose estimation"
    },
    {
      "metadata": {
        "trusted": true
      },
      "cell_type": "code",
      "source": "display(Math('Camera \\hspace{1mm} matrix:'))\ndisplay(Math(r'\\begin{bmatrix}'+f'{mtx[0][0]} & {mtx[0][1]} & {mtx[0][2]}' +r' \\\\' +\n            f'{mtx[1][0]} & {mtx[1][1]} & {mtx[1][2]}' +r' \\\\' +\n             f'{mtx[2][0]} & {mtx[2][1]} & {mtx[2][2]}' +r' \\\\' + r'\\end{bmatrix}'))\n\ndisplay(Math('Distortion \\hspace{1mm} coefficients \\hspace{1mm} vector:'))\ndisplay(Math(r'\\begin{bmatrix}'+ f'{dist[0][0]} ' +r' \\\\' +\n                                 f'{dist[1][0]} ' +r' \\\\' +\n                                 f'{dist[2][0]} ' +r' \\\\' +\n                                 f'{dist[3][0]} ' +r' \\\\' +\n                                 f'{dist[4][0]} ' +r' \\\\' +\n                                 f'{dist[5][0]} ' +r' \\\\' +\n                                 f'{dist[6][0]} ' +r' \\\\' +\n                                 f'{dist[7][0]} ' +r' \\\\' +\n                                 f'{dist[8][0]} ' +r' \\\\' +\n                                 f'{dist[9][0]} ' +r' \\\\' +\n                                 f'{dist[10][0]} ' +r' \\\\' +\n                                 f'{dist[11][0]} ' +r' \\\\' +\n                                 f'{dist[12][0]} ' +r' \\\\' +\n                                 f'{dist[13][0]} ' +r' \\\\' +                                       \n                                 r'\\end{bmatrix}'))\n",
      "execution_count": 6,
      "outputs": [
        {
          "output_type": "display_data",
          "data": {
            "text/latex": "$\\displaystyle Camera \\hspace{1mm} matrix:$",
            "text/plain": "<IPython.core.display.Math object>"
          },
          "metadata": {}
        },
        {
          "output_type": "display_data",
          "data": {
            "text/latex": "$\\displaystyle \\begin{bmatrix}1742.1335921606692 & 0.0 & 1271.5051441988062 \\\\0.0 & 1742.1335921606692 & 1025.1698164988907 \\\\0.0 & 0.0 & 1.0 \\\\\\end{bmatrix}$",
            "text/plain": "<IPython.core.display.Math object>"
          },
          "metadata": {}
        },
        {
          "output_type": "display_data",
          "data": {
            "text/latex": "$\\displaystyle Distortion \\hspace{1mm} coefficients \\hspace{1mm} vector:$",
            "text/plain": "<IPython.core.display.Math object>"
          },
          "metadata": {}
        },
        {
          "output_type": "display_data",
          "data": {
            "text/latex": "$\\displaystyle \\begin{bmatrix}-1.696848817960009  \\\\-6.8571782049901255  \\\\0.009936240143970227  \\\\0.000620144082036601  \\\\-11.873906314391862  \\\\-1.6946070999489826  \\\\-6.991102196412459  \\\\-11.363346214997351  \\\\0.0  \\\\0.0  \\\\0.0  \\\\0.0  \\\\0.0  \\\\0.0  \\\\\\end{bmatrix}$",
            "text/plain": "<IPython.core.display.Math object>"
          },
          "metadata": {}
        }
      ]
    },
    {
      "metadata": {
        "trusted": true
      },
      "cell_type": "code",
      "source": "",
      "execution_count": null,
      "outputs": []
    },
    {
      "metadata": {
        "trusted": true
      },
      "cell_type": "code",
      "source": "",
      "execution_count": null,
      "outputs": []
    }
  ],
  "metadata": {
    "kernelspec": {
      "name": "python36",
      "display_name": "Python 3.6",
      "language": "python"
    },
    "language_info": {
      "mimetype": "text/x-python",
      "nbconvert_exporter": "python",
      "name": "python",
      "pygments_lexer": "ipython3",
      "version": "3.6.6",
      "file_extension": ".py",
      "codemirror_mode": {
        "version": 3,
        "name": "ipython"
      }
    }
  },
  "nbformat": 4,
  "nbformat_minor": 2
}