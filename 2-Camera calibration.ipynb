{
  "nbformat": 4,
  "nbformat_minor": 0,
  "metadata": {
    "kernelspec": {
      "name": "python36",
      "display_name": "Python 3.6",
      "language": "python"
    },
    "language_info": {
      "mimetype": "text/x-python",
      "nbconvert_exporter": "python",
      "name": "python",
      "pygments_lexer": "ipython3",
      "version": "3.6.6",
      "file_extension": ".py",
      "codemirror_mode": {
        "version": 3,
        "name": "ipython"
      }
    },
    "colab": {
      "name": "2-Camera calibration.ipynb",
      "provenance": [],
      "toc_visible": true
    }
  },
  "cells": [
    {
      "cell_type": "markdown",
      "metadata": {
        "id": "47nWd8Lvu66E",
        "colab_type": "text"
      },
      "source": [
        "# Camera calibration\n",
        "In order to estimate markers' pose first we need to find the <b>camera matrix</b> and the <b>distortion coefficients</b>. Both are intrinsic camera parameters, so calibration has to be performed only once.\n",
        "\n",
        "sources:<br>\n",
        "https://it.mathworks.com/help/vision/ug/camera-calibration.html <br>\n",
        "https://docs.opencv.org/2.4/modules/calib3d/doc/camera_calibration_and_3d_reconstruction.html"
      ]
    },
    {
      "cell_type": "markdown",
      "metadata": {
        "id": "_5jsg835u66G",
        "colab_type": "text"
      },
      "source": [
        "## Setup"
      ]
    },
    {
      "cell_type": "code",
      "metadata": {
        "id": "JQG6oabbwHNf",
        "colab_type": "code",
        "colab": {}
      },
      "source": [
        "!git clone https://github.com/Nunzio03/follow-me-drone-notebooks"
      ],
      "execution_count": 0,
      "outputs": []
    },
    {
      "cell_type": "code",
      "metadata": {
        "trusted": true,
        "id": "WO2Zxu9Pu66J",
        "colab_type": "code",
        "colab": {
          "base_uri": "https://localhost:8080/",
          "height": 259
        },
        "outputId": "5d5ea929-2b80-4cdd-b388-65c4b31713d3"
      },
      "source": [
        "\n",
        "%cd follow-me-drone-notebooks/\n",
        "!pip3 install -r requirements.txt\n"
      ],
      "execution_count": 5,
      "outputs": [
        {
          "output_type": "stream",
          "text": [
            "/content/follow-me-drone-notebooks\n",
            "Requirement already satisfied: cycler==0.10.0 in /usr/local/lib/python3.6/dist-packages (from -r requirements.txt (line 1)) (0.10.0)\n",
            "Requirement already satisfied: kiwisolver==1.2.0 in /usr/local/lib/python3.6/dist-packages (from -r requirements.txt (line 2)) (1.2.0)\n",
            "Requirement already satisfied: matplotlib==3.2.1 in /usr/local/lib/python3.6/dist-packages (from -r requirements.txt (line 3)) (3.2.1)\n",
            "Requirement already satisfied: numpy==1.18.4 in /usr/local/lib/python3.6/dist-packages (from -r requirements.txt (line 4)) (1.18.4)\n",
            "Requirement already satisfied: opencv-contrib-python==4.2.0.34 in /usr/local/lib/python3.6/dist-packages (from -r requirements.txt (line 5)) (4.2.0.34)\n",
            "Requirement already satisfied: pandas==1.0.3 in /usr/local/lib/python3.6/dist-packages (from -r requirements.txt (line 6)) (1.0.3)\n",
            "Requirement already satisfied: Pillow==7.1.2 in /usr/local/lib/python3.6/dist-packages (from -r requirements.txt (line 7)) (7.1.2)\n",
            "Requirement already satisfied: pyparsing==2.4.7 in /usr/local/lib/python3.6/dist-packages (from -r requirements.txt (line 8)) (2.4.7)\n",
            "Requirement already satisfied: python-dateutil==2.8.1 in /usr/local/lib/python3.6/dist-packages (from -r requirements.txt (line 9)) (2.8.1)\n",
            "Requirement already satisfied: pytz==2020.1 in /usr/local/lib/python3.6/dist-packages (from -r requirements.txt (line 10)) (2020.1)\n",
            "Requirement already satisfied: six==1.14.0 in /usr/local/lib/python3.6/dist-packages (from -r requirements.txt (line 11)) (1.14.0)\n"
          ],
          "name": "stdout"
        }
      ]
    },
    {
      "cell_type": "markdown",
      "metadata": {
        "id": "dtLPQyJAu66Y",
        "colab_type": "text"
      },
      "source": [
        "## ArUco Chessboard generation"
      ]
    },
    {
      "cell_type": "code",
      "metadata": {
        "trusted": true,
        "id": "rYMpAFnuu66b",
        "colab_type": "code",
        "colab": {
          "base_uri": "https://localhost:8080/",
          "height": 36
        },
        "outputId": "9aed6bd1-05b9-4239-b562-b41f5f154b14"
      },
      "source": [
        "import numpy as np\n",
        "import cv2, PIL\n",
        "from cv2 import aruco\n",
        "from mpl_toolkits.mplot3d import Axes3D\n",
        "import matplotlib.pyplot as plt\n",
        "import matplotlib as mpl\n",
        "import pandas as pd\n",
        "from IPython.display import display, Math\n",
        "print(\"import completed\")"
      ],
      "execution_count": 6,
      "outputs": [
        {
          "output_type": "stream",
          "text": [
            "import completed\n"
          ],
          "name": "stdout"
        }
      ]
    },
    {
      "cell_type": "code",
      "metadata": {
        "trusted": true,
        "id": "O_D7zOFou66j",
        "colab_type": "code",
        "colab": {
          "base_uri": "https://localhost:8080/",
          "height": 248
        },
        "outputId": "38d3b488-1eb3-45f3-afd4-8fe3708ed85b"
      },
      "source": [
        "\n",
        "workdir = \"./markers/\"\n",
        "aruco_dict = aruco.Dictionary_get(aruco.DICT_6X6_250)\n",
        "board = aruco.CharucoBoard_create(7, 5, 1, .8, aruco_dict)\n",
        "imboard = board.draw((2000, 2000))\n",
        "cv2.imwrite(workdir + \"chessboard.png\", imboard)\n",
        "fig = plt.figure()\n",
        "ax = fig.add_subplot(1,1,1)\n",
        "plt.imshow(imboard, cmap = mpl.cm.gray, interpolation = \"nearest\")\n",
        "ax.axis(\"off\")\n",
        "plt.show()"
      ],
      "execution_count": 7,
      "outputs": [
        {
          "output_type": "display_data",
          "data": {
            "image/png": "[encoded data removed]",
            "text/plain": [
              "<Figure size 432x288 with 1 Axes>"
            ]
          },
          "metadata": {
            "tags": [],
            "needs_background": "light"
          }
        }
      ]
    },
    {
      "cell_type": "markdown",
      "metadata": {
        "trusted": true,
        "id": "WwE4vZHeu66r",
        "colab_type": "text"
      },
      "source": [
        "## Calibration\n",
        "After printing the charuco board we need to take several pictures of the board with the camera that we want to calibrate"
      ]
    },
    {
      "cell_type": "code",
      "metadata": {
        "trusted": true,
        "id": "q87NzYhgu66r",
        "colab_type": "code",
        "colab": {
          "base_uri": "https://localhost:8080/",
          "height": 73
        },
        "outputId": "4ba68146-ebfb-4257-e9be-1eeb21fcd761"
      },
      "source": [
        "import numpy as np\n",
        "import cv2, PIL, os\n",
        "from cv2 import aruco\n",
        "import matplotlib.pyplot as plt\n",
        "\n",
        "aruco_dict = aruco.Dictionary_get(aruco.DICT_6X6_250)\n",
        "board = aruco.CharucoBoard_create(7, 5, 1, .8, aruco_dict)\n",
        "datadir = \"./drone calibration photos/\"\n",
        "\n",
        "images = np.array([datadir + f for f in os.listdir(datadir) if f.endswith(\".png\") ])\n",
        "\n",
        "\n",
        "def read_chessboards(images):\n",
        "    \"\"\"\n",
        "    Charuco base pose estimation.\n",
        "    \"\"\"\n",
        "    print(\"POSE ESTIMATION STARTED...\")\n",
        "    allCorners = []\n",
        "    allIds = []\n",
        "    decimator = 0\n",
        "    # SUB PIXEL CORNER DETECTION CRITERION\n",
        "    criteria = (cv2.TERM_CRITERIA_EPS + cv2.TERM_CRITERIA_MAX_ITER, 100, 0.00001)\n",
        "\n",
        "    for im in images:\n",
        "        # print(\"=> Processing image {0}\".format(im))\n",
        "        print('.', end=\"\")\n",
        "        frame = cv2.imread(im)\n",
        "        gray = cv2.cvtColor(frame, cv2.COLOR_BGR2GRAY)\n",
        "        corners, ids, rejectedImgPoints = cv2.aruco.detectMarkers(gray, aruco_dict)\n",
        "\n",
        "        if len(corners)>0:\n",
        "            # SUB PIXEL DETECTION\n",
        "            for corner in corners:\n",
        "                cv2.cornerSubPix(gray, corner,\n",
        "                                 winSize = (3,3),\n",
        "                                 zeroZone = (-1,-1),\n",
        "                                 criteria = criteria)\n",
        "            res2 = cv2.aruco.interpolateCornersCharuco(corners,ids,gray,board)\n",
        "            if res2[1] is not None and res2[2] is not None and len(res2[1])>3 and decimator%1==0:\n",
        "                allCorners.append(res2[1])\n",
        "                allIds.append(res2[2])\n",
        "\n",
        "        decimator+=1\n",
        "\n",
        "    imsize = gray.shape\n",
        "    return allCorners,allIds,imsize\n",
        "\n",
        "allCorners,allIds,imsize=read_chessboards(images)\n",
        "\n",
        "\n",
        "def calibrate_camera(allCorners,allIds,imsize):\n",
        "    \"\"\"\n",
        "    Calibrates the camera using the dected corners.\n",
        "    \"\"\"\n",
        "\n",
        "    cameraMatrixInit = np.array([[ 1000.,    0., imsize[0]/2.],\n",
        "                                 [    0., 1000., imsize[1]/2.],\n",
        "                                 [    0.,    0.,           1.]])\n",
        "\n",
        "    distCoeffsInit = np.zeros((5,1))\n",
        "    flags = (cv2.CALIB_USE_INTRINSIC_GUESS + cv2.CALIB_RATIONAL_MODEL + cv2.CALIB_FIX_ASPECT_RATIO)\n",
        "    #flags = (cv2.CALIB_RATIONAL_MODEL)\n",
        "    (ret, camera_matrix, distortion_coefficients0,\n",
        "     rotation_vectors, translation_vectors,\n",
        "     stdDeviationsIntrinsics, stdDeviationsExtrinsics,\n",
        "     perViewErrors) = cv2.aruco.calibrateCameraCharucoExtended(\n",
        "                      charucoCorners=allCorners,\n",
        "                      charucoIds=allIds,\n",
        "                      board=board,\n",
        "                      imageSize=imsize,\n",
        "                      cameraMatrix=cameraMatrixInit,\n",
        "                      distCoeffs=distCoeffsInit,\n",
        "                      flags=flags,\n",
        "                      criteria=(cv2.TERM_CRITERIA_EPS & cv2.TERM_CRITERIA_COUNT, 10000, 1e-9))\n",
        "\n",
        "    return ret, camera_matrix, distortion_coefficients0, rotation_vectors, translation_vectors\n",
        "\n",
        "\n",
        "ret, mtx, dist, rvecs, tvecs = calibrate_camera(allCorners,allIds,imsize)\n",
        "print(\"\\n CALIBRATION COMPLETED\")\n"
      ],
      "execution_count": 8,
      "outputs": [
        {
          "output_type": "stream",
          "text": [
            "POSE ESTIMATION STARTED...\n",
            ".....................\n",
            " CALIBRATION COMPLETED\n"
          ],
          "name": "stdout"
        }
      ]
    },
    {
      "cell_type": "markdown",
      "metadata": {
        "trusted": true,
        "id": "V862lCkPu66z",
        "colab_type": "text"
      },
      "source": [
        "## Results\n",
        "Now we can store these results, and use them for ArUco identification and pose estimation"
      ]
    },
    {
      "cell_type": "code",
      "metadata": {
        "trusted": true,
        "id": "SBsTfigdu661",
        "colab_type": "code",
        "colab": {
          "base_uri": "https://localhost:8080/",
          "height": 406
        },
        "outputId": "01fc07f8-837f-4291-9842-7c0dceadac29"
      },
      "source": [
        "display(Math('Camera \\hspace{1mm} matrix:'))\n",
        "display(Math(r'\\begin{bmatrix}'+f'{mtx[0][0]} & {mtx[0][1]} & {mtx[0][2]}' +r' \\\\' +\n",
        "            f'{mtx[1][0]} & {mtx[1][1]} & {mtx[1][2]}' +r' \\\\' +\n",
        "             f'{mtx[2][0]} & {mtx[2][1]} & {mtx[2][2]}' +r' \\\\' + r'\\end{bmatrix}'))\n",
        "\n",
        "display(Math('Distortion \\hspace{1mm} coefficients \\hspace{1mm} vector:'))\n",
        "display(Math(r'\\begin{bmatrix}'+ f'{dist[0][0]} ' +r' \\\\' +\n",
        "                                 f'{dist[1][0]} ' +r' \\\\' +\n",
        "                                 f'{dist[2][0]} ' +r' \\\\' +\n",
        "                                 f'{dist[3][0]} ' +r' \\\\' +\n",
        "                                 f'{dist[4][0]} ' +r' \\\\' +\n",
        "                                 f'{dist[5][0]} ' +r' \\\\' +\n",
        "                                 f'{dist[6][0]} ' +r' \\\\' +\n",
        "                                 f'{dist[7][0]} ' +r' \\\\' +\n",
        "                                 f'{dist[8][0]} ' +r' \\\\' +\n",
        "                                 f'{dist[9][0]} ' +r' \\\\' +\n",
        "                                 f'{dist[10][0]} ' +r' \\\\' +\n",
        "                                 f'{dist[11][0]} ' +r' \\\\' +\n",
        "                                 f'{dist[12][0]} ' +r' \\\\' +\n",
        "                                 f'{dist[13][0]} ' +r' \\\\' +                                       \n",
        "                                 r'\\end{bmatrix}'))\n"
      ],
      "execution_count": 9,
      "outputs": [
        {
          "output_type": "display_data",
          "data": {
            "text/latex": "$$Camera \\hspace{1mm} matrix:$$",
            "text/plain": [
              "<IPython.core.display.Math object>"
            ]
          },
          "metadata": {
            "tags": []
          }
        },
        {
          "output_type": "display_data",
          "data": {
            "text/latex": "$$\\begin{bmatrix}1742.1335920751126 & 0.0 & 1271.5051442474946 \\\\0.0 & 1742.1335920751126 & 1025.1698165139912 \\\\0.0 & 0.0 & 1.0 \\\\\\end{bmatrix}$$",
            "text/plain": [
              "<IPython.core.display.Math object>"
            ]
          },
          "metadata": {
            "tags": []
          }
        },
        {
          "output_type": "display_data",
          "data": {
            "text/latex": "$$Distortion \\hspace{1mm} coefficients \\hspace{1mm} vector:$$",
            "text/plain": [
              "<IPython.core.display.Math object>"
            ]
          },
          "metadata": {
            "tags": []
          }
        },
        {
          "output_type": "display_data",
          "data": {
            "text/latex": "$$\\begin{bmatrix}-1.6968488264402841  \\\\-6.85717813638837  \\\\0.00993624014312605  \\\\0.0006201440889374065  \\\\-11.87390642445806  \\\\-1.6946071083513767  \\\\-6.991102128315994  \\\\-11.363346324390328  \\\\0.0  \\\\0.0  \\\\0.0  \\\\0.0  \\\\0.0  \\\\0.0  \\\\\\end{bmatrix}$$",
            "text/plain": [
              "<IPython.core.display.Math object>"
            ]
          },
          "metadata": {
            "tags": []
          }
        }
      ]
    },
    {
      "cell_type": "code",
      "metadata": {
        "trusted": true,
        "id": "l7JJklsxu66-",
        "colab_type": "code",
        "colab": {}
      },
      "source": [
        ""
      ],
      "execution_count": 0,
      "outputs": []
    },
    {
      "cell_type": "code",
      "metadata": {
        "trusted": true,
        "id": "aY1ikCrRu67E",
        "colab_type": "code",
        "colab": {}
      },
      "source": [
        ""
      ],
      "execution_count": 0,
      "outputs": []
    }
  ]
}